{
 "cells": [
  {
   "cell_type": "markdown",
   "metadata": {},
   "source": [
    "## Membuat List Python\n",
    "List adalah tipe data yang paling serbaguna yang tersedia dalam bahasa Python, yang dapat ditulis sebagai\n",
    "daftar nilai yang dipisahkan koma (item) antara tanda kurung siku. Hal penting tentang daftar adalah item dalam\n",
    "list tidak boleh sama jenisnya.\n",
    "Membuat list sangat sederhana, tinggal memasukkan berbagai nilai yang dipisahkan koma di antara tanda\n",
    "kurung siku. Dibawah ini adalah contoh sederhana pembuatan list dalam bahasa Python."
   ]
  },
  {
   "cell_type": "code",
   "execution_count": 1,
   "metadata": {},
   "outputs": [
    {
     "name": "stdout",
     "output_type": "stream",
     "text": [
      "['sistem komputer', 'teknik informatika', 2008, 2020]\n",
      "[1, 2, 3, 4, 5]\n",
      "['a', 'b', 'c', 'd']\n"
     ]
    }
   ],
   "source": [
    "#Contoh sederhana pembuatan list pada bahasa pemrograman python\n",
    "list1 = ['sistem komputer', 'teknik informatika', 2008, 2020]\n",
    "list2 = [1, 2, 3, 4, 5 ]\n",
    "list3 = [\"a\", \"b\", \"c\", \"d\"]\n",
    "print(list1)\n",
    "print(list2)\n",
    "print(list3)"
   ]
  },
  {
   "cell_type": "markdown",
   "metadata": {},
   "source": [
    "## Akses Nilai Dalam List Python\n",
    "Untuk mengakses nilai dalam list python, gunakan tanda kurung siku untuk mengiris beserta indeks atau indeks\n",
    "untuk mendapatkan nilai yang tersedia pada indeks tersebut.\n",
    "Berikut adalah contoh cara mengakses nilai di dalam list python :"
   ]
  },
  {
   "cell_type": "code",
   "execution_count": 2,
   "metadata": {},
   "outputs": [
    {
     "name": "stdout",
     "output_type": "stream",
     "text": [
      "list1[0]:  sistem komputer\n",
      "list2[1:5]:  [2, 3, 4, 5]\n"
     ]
    }
   ],
   "source": [
    "#Cara mengakses nilai di dalam list Python\n",
    "list1 = ['sistem komputer', 'teknik informatika', 2008, 2020]\n",
    "list2 = [1, 2, 3, 4, 5, 6, 7 ]\n",
    "print (\"list1[0]: \", list1[0])\n",
    "\n",
    "print (\"list2[1:5]: \", list2[1:5])"
   ]
  },
  {
   "cell_type": "markdown",
   "metadata": {},
   "source": [
    "## Update Nilai Dalam List Python\n",
    "Anda dapat memperbarui satu atau beberapa nilai di dalam list dengan memberikan potongan di sisi kiri\n",
    "operator penugasan, dan Anda dapat menambahkan nilai ke dalam list dengan metode append (). Sebagai\n",
    "contoh :"
   ]
  },
  {
   "cell_type": "code",
   "execution_count": 3,
   "metadata": {},
   "outputs": [
    {
     "name": "stdout",
     "output_type": "stream",
     "text": [
      "Nilai ada pada index 2 :  2008\n",
      "Nilai baru ada pada index 2 :  2001\n"
     ]
    }
   ],
   "source": [
    "list = ['sistem komputer', 'teknik informatika', 2008, 2020]\n",
    "print (\"Nilai ada pada index 2 : \", list[2])\n",
    "list[2] = 2001\n",
    "print (\"Nilai baru ada pada index 2 : \", list[2])"
   ]
  },
  {
   "cell_type": "markdown",
   "metadata": {},
   "source": [
    "## Hapus Nilai Dalam List Python\n",
    "Untuk menghapus nilai di dalam list python, Anda dapat menggunakan salah satu pernyataan del jika Anda tahu\n",
    "persis elemen yang Anda hapus. Anda dapat menggunakan metode remove() jika Anda tidak tahu persis item\n",
    "mana yang akan dihapus. Sebagai contoh :"
   ]
  }
 ],
 "metadata": {
  "kernelspec": {
   "display_name": "Python 3.8.10 64-bit",
   "language": "python",
   "name": "python3"
  },
  "language_info": {
   "codemirror_mode": {
    "name": "ipython",
    "version": 3
   },
   "file_extension": ".py",
   "mimetype": "text/x-python",
   "name": "python",
   "nbconvert_exporter": "python",
   "pygments_lexer": "ipython3",
   "version": "3.8.10"
  },
  "orig_nbformat": 4,
  "vscode": {
   "interpreter": {
    "hash": "50f92a894483b90d37829e622a33871b27f3b5decbf3450e8a1f9570503ac8b0"
   }
  }
 },
 "nbformat": 4,
 "nbformat_minor": 2
}
