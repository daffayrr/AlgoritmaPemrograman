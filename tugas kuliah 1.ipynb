{
 "cells": [
  {
   "cell_type": "markdown",
   "metadata": {},
   "source": [
    "# Kasus Pertumbuhan Pengunjung di Stadion\n",
    "Nama  : Farras Daffa Yassarramadhan;\n",
    "NIM   : 223200248;\n",
    "Prodi : Informatika - Universitas Alma Ata\n",
    "### Variabel\n",
    "1. Durasi buka \n",
    "2. Setiap 1 Jam pertumbuhan pengunjung meningkat sebanyak 10 orang \n",
    "3. Jam 17.00 - 20.00 pengunjung meningkat sampai 200% dengan Durasi 3 Jam\n",
    "4. Stadion tutup dari jam 22.00 - 05.00 (Jam Buka 05.00 - 22.00)\n",
    "5. Kasus 1, 2, 3 berlaku hari senin sampai jum'at\n",
    "6. Hari Sabtu & Minggu pengunjung meningkat menjadi 300%\n",
    "### Pertanyaan\n",
    "1. Total Pengunjung Perhari Senin sampai Minggu\n",
    "2. Total Pengunjung Hari Senin sampai Jum'at\n",
    "3. Total Pengunjung Hari Sabtu dan Minggu\n",
    "4. Total Pengunjung selama Senin sampai Minggu"
   ]
  },
  {
   "cell_type": "markdown",
   "metadata": {},
   "source": [
    "### Menghitung Jumlah Pengunjung Perhari"
   ]
  },
  {
   "cell_type": "code",
   "execution_count": 5,
   "metadata": {},
   "outputs": [
    {
     "name": "stdout",
     "output_type": "stream",
     "text": [
      "Jumlah pengunjung dari jam 05.00 sampai 17.00 : 100\n",
      "Jumlah pengunjung dari jam 17.00 sampai 20.00 : 60.0\n",
      "Jumlah pengunjung dari jam 20.00 sampai 22.00 : 20\n",
      "Durasi jam buka Stadion adalah : 17 Jam\n",
      "Jumlah pengunjung selama satu hari atau 17 adalah 180.0 pengunjung\n"
     ]
    }
   ],
   "source": [
    "\n",
    "# Pertambahan Jumlah pengunjung tiap jam\n",
    "# Nilai 10 adalah nilai pertambahan pengunjung perjam\n",
    "# Nilai 17 adalah durasi jam buka stadion\n",
    "pengunjung_perjam = 10\n",
    "jam_buka = 17\n",
    "\n",
    "# Jumlah pengunjung sebelum jam 17.00\n",
    "# Nilai 10 adalah jam buka dari jam 05.00 - 17.00\n",
    "pengunjung1 = pengunjung_perjam * 10 \n",
    "\n",
    "# Pertambahan pengunjung jam 17.00 - 20.00\n",
    "# Nilai 3 adalah jam stadion dari jam 17.00 - 20.00\n",
    "pengunjung2 = (pengunjung_perjam * 3) * 200/100 \n",
    "\n",
    "# Jumlah pengunjung setelah jam 20.00\n",
    "# Nilai 2 adalah jam stadion dari jam 20.00 - 22.00\n",
    "pengunjung3 = pengunjung_perjam * 2 \n",
    "\n",
    "# Hasil\n",
    "total = pengunjung1 + pengunjung2 + pengunjung3\n",
    "print(\"Jumlah pengunjung dari jam 05.00 sampai 17.00 :\", pengunjung1)\n",
    "print(\"Jumlah pengunjung dari jam 17.00 sampai 20.00 :\", pengunjung2)\n",
    "print(\"Jumlah pengunjung dari jam 20.00 sampai 22.00 :\", pengunjung3)\n",
    "print(\"Durasi jam buka Stadion adalah :\", jam_buka, \"Jam\")\n",
    "print(\"Jumlah pengunjung selama satu hari atau\", jam_buka, \"adalah\", total, \"pengunjung\")"
   ]
  },
  {
   "cell_type": "markdown",
   "metadata": {},
   "source": [
    "### Menghitung Jumlah Pengunjung Hari Sabtu dan Minggu\n",
    "Di kasus ini, penambahan pengunjung terjadi sebanyak 300%. Rata-rata jumlah pengunjung hampir sama setiap hari Senin - Jum'at, khusus hari sabtu dan minggu mengalami kenaikan sebesar 300%"
   ]
  },
  {
   "cell_type": "code",
   "execution_count": 20,
   "metadata": {},
   "outputs": [
    {
     "name": "stdout",
     "output_type": "stream",
     "text": [
      "Pengunjung saat weekend adalah = 1080.0\n"
     ]
    }
   ],
   "source": [
    "# Nilai 2 adalah jumlah hari (Sabtu dan Minggu)\n",
    "total_weekend = (total * 2) * 300/100\n",
    "print(\"Pengunjung saat weekend adalah =\", total_weekend)"
   ]
  },
  {
   "cell_type": "markdown",
   "metadata": {},
   "source": [
    "### Total Pengunjung Perhari Senin sampai Minggu"
   ]
  },
  {
   "cell_type": "code",
   "execution_count": 24,
   "metadata": {},
   "outputs": [
    {
     "name": "stdout",
     "output_type": "stream",
     "text": [
      "Senin 180.0\n",
      "Selasa 180.0\n",
      "Rabu 180.0\n",
      "Kamis 180.0\n",
      "Jumat 180.0\n",
      "Sabtu 1080.0\n",
      "Minggu 1080.0\n"
     ]
    }
   ],
   "source": [
    "# Membuat list hari\n",
    "hari_biasa = ['Senin', 'Selasa', 'Rabu', 'Kamis', 'Jumat']\n",
    "hari_weekend = ['Sabtu', 'Minggu']\n",
    "\n",
    "# Mencetak hasil hari senin - jum'at menggunakan perulangan for\n",
    "for h_kerja in hari_biasa:\n",
    "    print(h_kerja, total)\n",
    "\n",
    "# Mencetak hasil hari sabtu - minggu menggunakan perulangan for\n",
    "for h_weekend in hari_weekend:\n",
    "    print(h_weekend, total_weekend)\n",
    "\n"
   ]
  },
  {
   "cell_type": "markdown",
   "metadata": {},
   "source": [
    "### Total Pengunjung Hari Senin sampai Jum'at"
   ]
  },
  {
   "cell_type": "code",
   "execution_count": 25,
   "metadata": {},
   "outputs": [
    {
     "name": "stdout",
     "output_type": "stream",
     "text": [
      "Total pengunjung di Hari Senin sampai Jum'at adalah : 900.0\n"
     ]
    }
   ],
   "source": [
    "# Nilai 5 adalah jumlah hari kerja (Senin sampai Jum'at)\n",
    "hari_kerja = 5\n",
    "hasil_hari_kerja = total * 5\n",
    "print(\"Total pengunjung di Hari Senin sampai Jum'at adalah :\", hasil_hari_kerja)"
   ]
  },
  {
   "cell_type": "markdown",
   "metadata": {},
   "source": [
    "### Total Pengunjung Hari Sabtu dan Minggu"
   ]
  },
  {
   "cell_type": "code",
   "execution_count": 26,
   "metadata": {},
   "outputs": [
    {
     "name": "stdout",
     "output_type": "stream",
     "text": [
      "Total pengunjung di Hari Sabtu dan Minggu adalah : 5400.0\n"
     ]
    }
   ],
   "source": [
    "# Nilai 2 adalah jumlah hari weekend (Sabtu dan Minggu)\n",
    "pengunjung_weekend = 2\n",
    "hasil_hari_weekend = total_weekend * 5\n",
    "print(\"Total pengunjung di Hari Sabtu dan Minggu adalah :\", hasil_hari_weekend)"
   ]
  },
  {
   "cell_type": "markdown",
   "metadata": {},
   "source": [
    "### Total Pengunjung selama Senin sampai Minggu"
   ]
  },
  {
   "cell_type": "code",
   "execution_count": 28,
   "metadata": {},
   "outputs": [
    {
     "name": "stdout",
     "output_type": "stream",
     "text": [
      "Jumlah pengunjung selama 1 minggu penuh adalah : 6300.0\n"
     ]
    }
   ],
   "source": [
    "# Mencetak Jumlah Pengunjung selama satu minggu penuh\n",
    "jumlah_seminggu = hasil_hari_kerja + hasil_hari_weekend\n",
    "print(\"Jumlah pengunjung selama 1 minggu penuh adalah :\", jumlah_seminggu)"
   ]
  }
 ],
 "metadata": {
  "kernelspec": {
   "display_name": "Python 3.7.9 64-bit",
   "language": "python",
   "name": "python3"
  },
  "language_info": {
   "codemirror_mode": {
    "name": "ipython",
    "version": 3
   },
   "file_extension": ".py",
   "mimetype": "text/x-python",
   "name": "python",
   "nbconvert_exporter": "python",
   "pygments_lexer": "ipython3",
   "version": "3.7.9"
  },
  "orig_nbformat": 4,
  "vscode": {
   "interpreter": {
    "hash": "340f8785b86713fc3f0ca7b8a71664d96fcb42f448ddb17a4c1424df05047e41"
   }
  }
 },
 "nbformat": 4,
 "nbformat_minor": 2
}
