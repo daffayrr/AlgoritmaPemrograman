{
 "cells": [
  {
   "cell_type": "markdown",
   "metadata": {},
   "source": [
    "# Search and Short\n",
    "+ Nama : Farras Daffa Yassarramadhan\n",
    "+ NIM : 223200248\n",
    "+ Prodi : Informatika"
   ]
  },
  {
   "cell_type": "markdown",
   "metadata": {},
   "source": [
    "## Program Binary Search"
   ]
  },
  {
   "cell_type": "code",
   "execution_count": 15,
   "metadata": {},
   "outputs": [
    {
     "name": "stdout",
     "output_type": "stream",
     "text": [
      "[4, 3, 2]\n"
     ]
    }
   ],
   "source": [
    "lst = []\n",
    "  \n",
    "# number of elements as input\n",
    "n = int(input(\"Masukan jumlah angka untuk diinput : \"))\n",
    "  \n",
    "# iterating till the range\n",
    "for i in range(0, n):\n",
    "    ele = int(input())\n",
    "  \n",
    "    lst.append(ele)\n",
    "\n",
    "print(lst)"
   ]
  },
  {
   "cell_type": "code",
   "execution_count": 10,
   "metadata": {},
   "outputs": [
    {
     "name": "stdout",
     "output_type": "stream",
     "text": [
      "List =  [1, 4, 7, 5, 3, 8]\n",
      "Cari nilai 6:  False\n",
      "Cari nilai 5:  False\n"
     ]
    }
   ],
   "source": [
    "\n",
    "lst = []\n",
    "  \n",
    "# number of elements as input\n",
    "n = int(input(\"Masukan jumlah angka untuk diinput : \"))\n",
    "  \n",
    "# iterating till the range\n",
    "for i in range(0, n):\n",
    "    ele = int(input())\n",
    "  \n",
    "    lst.append(ele)\n",
    "\n",
    "def binary_search(item_list,item):\n",
    "\tfirst = 0\n",
    "\tlast = len(item_list)-1\n",
    "\tfound = False\n",
    "\twhile( first<=last and not found):\n",
    "\t\tmid = (first + last)//2\n",
    "\t\tif item_list[mid] == item :\n",
    "\t\t\tfound = True\n",
    "\t\telse:\n",
    "\t\t\tif item < item_list[mid]:\n",
    "\t\t\t\tlast = mid - 1\n",
    "\t\t\telse:\n",
    "\t\t\t\tfirst = mid + 1\t\n",
    "\treturn found\n",
    "\n",
    "print('List = ', lst)\t\n",
    "print('Cari nilai 6: ', binary_search(lst, 6))\n",
    "print('Cari nilai 5: ', binary_search(lst, 5))\n"
   ]
  },
  {
   "cell_type": "markdown",
   "metadata": {},
   "source": [
    "## Program Bubble Sort"
   ]
  },
  {
   "cell_type": "code",
   "execution_count": 11,
   "metadata": {},
   "outputs": [
    {
     "name": "stdout",
     "output_type": "stream",
     "text": [
      "Data sebelum di sort [45, 64, 23, 87, 45, 14, 94, 34]\n",
      "Data setelah di sort [94, 87, 64, 45, 45, 34, 23, 14]\n"
     ]
    }
   ],
   "source": [
    "\n",
    "lst = []\n",
    "  \n",
    "# number of elements as input\n",
    "n = int(input(\"Masukan jumlah angka untuk diinput : \"))\n",
    "  \n",
    "# iterating till the range\n",
    "for i in range(0, n):\n",
    "    ele = int(input())\n",
    "  \n",
    "    lst.append(ele)\n",
    "\n",
    "def bubbleSort(nlist):\n",
    "    for passnum in range(len(nlist)-1,0,-1):\n",
    "        for i in range(passnum):\n",
    "            if nlist[i]<nlist[i+1]:\n",
    "                temp = nlist[i]\n",
    "                nlist[i] = nlist[i+1]\n",
    "                nlist[i+1] = temp\n",
    "\n",
    "#nlist = [14,46,43,27,57,41,45,21,70]\n",
    "print('Data sebelum di sort', lst)\n",
    "bubbleSort(lst)\n",
    "print('Data setelah di sort', lst)\n"
   ]
  },
  {
   "cell_type": "markdown",
   "metadata": {},
   "source": [
    "## Program Selection Sort"
   ]
  },
  {
   "cell_type": "code",
   "execution_count": 12,
   "metadata": {},
   "outputs": [
    {
     "name": "stdout",
     "output_type": "stream",
     "text": [
      "data sebelum di sort:  [14, 46, 43, 27, 57, 41, 45, 21, 70]\n",
      "data setelah di sort:  [14, 21, 27, 41, 43, 45, 46, 57, 70]\n"
     ]
    }
   ],
   "source": [
    "\n",
    "lst = []\n",
    "  \n",
    "# number of elements as input\n",
    "n = int(input(\"Masukan jumlah angka untuk diinput : \"))\n",
    "  \n",
    "# iterating till the range\n",
    "for i in range(0, n):\n",
    "    ele = int(input())\n",
    "  \n",
    "    lst.append(ele)\n",
    "    \n",
    "def selectionSort(nlist):\n",
    "   for fillslot in range(len(nlist)-1,0,-1):\n",
    "       maxpos=0\n",
    "       for location in range(1,fillslot+1):\n",
    "           if nlist[location]>nlist[maxpos]:\n",
    "               maxpos = location\n",
    "\n",
    "       temp = nlist[fillslot]\n",
    "       nlist[fillslot] = nlist[maxpos]\n",
    "       nlist[maxpos] = temp\n",
    "\n",
    "nlist = [14,46,43,27,57,41,45,21,70]\n",
    "print('data sebelum di sort: ', nlist)\n",
    "selectionSort(nlist)\n",
    "print('data setelah di sort: ', nlist)"
   ]
  },
  {
   "cell_type": "markdown",
   "metadata": {},
   "source": [
    "## Program Sequential Search"
   ]
  },
  {
   "cell_type": "code",
   "execution_count": 14,
   "metadata": {},
   "outputs": [
    {
     "name": "stdout",
     "output_type": "stream",
     "text": [
      "cari angka 31:  (False, 1)\n",
      "cari angka 99:  (False, 1)\n"
     ]
    }
   ],
   "source": [
    "\n",
    "lst = []\n",
    "  \n",
    "# number of elements as input\n",
    "n = int(input(\"Masukan jumlah angka untuk diinput : \"))\n",
    "  \n",
    "# iterating till the range\n",
    "for i in range(0, n):\n",
    "    ele = int(input())\n",
    "  \n",
    "    lst.append(ele)\n",
    "\n",
    "def Sequential_Search(dlist, item):\n",
    "\n",
    "    pos = 0\n",
    "    found = False\n",
    "    \n",
    "    while pos < len(dlist) and not found:\n",
    "        if dlist[pos] == item:\n",
    "            found = True\n",
    "        else:\n",
    "            pos = pos + 1\n",
    "    \n",
    "    return found, pos\n",
    "\n",
    "print('cari angka 31: ',Sequential_Search([lst],31))\n",
    "print('cari angka 99: ',Sequential_Search([lst],1))"
   ]
  }
 ],
 "metadata": {
  "kernelspec": {
   "display_name": "Python 3.8.10 64-bit",
   "language": "python",
   "name": "python3"
  },
  "language_info": {
   "codemirror_mode": {
    "name": "ipython",
    "version": 3
   },
   "file_extension": ".py",
   "mimetype": "text/x-python",
   "name": "python",
   "nbconvert_exporter": "python",
   "pygments_lexer": "ipython3",
   "version": "3.8.10"
  },
  "orig_nbformat": 4,
  "vscode": {
   "interpreter": {
    "hash": "50f92a894483b90d37829e622a33871b27f3b5decbf3450e8a1f9570503ac8b0"
   }
  }
 },
 "nbformat": 4,
 "nbformat_minor": 2
}
