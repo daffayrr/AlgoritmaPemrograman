{
 "cells": [
  {
   "cell_type": "code",
   "execution_count": 4,
   "metadata": {},
   "outputs": [
    {
     "name": "stdout",
     "output_type": "stream",
     "text": [
      "Cukup\n"
     ]
    }
   ],
   "source": [
    "ipk = 5\n",
    "\n",
    "if ipk > 2 & ipk <= 3:\n",
    "    print(\"Cukup\")\n",
    "elif ipk > 3 & ipk <= 3.5:\n",
    "    print(\"Memuaskan\")\n",
    "elif ipk > 3.5 & ipk <= 4:\n",
    "    print(\"Cumlaude\")\n",
    "    if ipk > 3.9 & ipk <= 4:\n",
    "        print(\"Pin Emas\")"
   ]
  },
  {
   "cell_type": "code",
   "execution_count": 16,
   "metadata": {},
   "outputs": [],
   "source": [
    "uang = float(input(\"Masukan Nominal Uang : \"))\n",
    "\n",
    "if uang < 1:\n",
    "    print(\"kerja lah\")\n",
    "elif uang >= 1 and uang <= 100:\n",
    "    print(\"Nabung dan kerja ya\")\n",
    "elif uang > 100:\n",
    "    beriOrtu = uang - 100\n",
    "    print(\"Buat Ortu = \", beriOrtu)\n",
    "    if uang > 200:\n",
    "        invest = uang - 200\n",
    "        print(\"Investasi \", invest)"
   ]
  },
  {
   "cell_type": "code",
   "execution_count": null,
   "metadata": {},
   "outputs": [],
   "source": [
    "kecamatanA = 1 * 30\n",
    "kecamatanB = 3 * 30\n",
    "is_hujan = True\n",
    "is_weekDays = kecamatanA + kecamatanB\n",
    "weekEnds = is_weekDays * 25/100\n",
    "weekEnds = is_weekDays - weekEnds\n",
    "\n",
    "if is_weekDays:\n",
    "    print(\"Bermain tali tambang\")\n",
    "    if is_hujan == True:\n",
    "        print(\"Libur\")\n",
    "elif weekEnds:\n",
    "    print(\"bermain petak umpet\")\n",
    "    if is_hujan == True:\n",
    "        print(\"Libur\")\n",
    "\n"
   ]
  },
  {
   "cell_type": "code",
   "execution_count": null,
   "metadata": {},
   "outputs": [],
   "source": [
    "ih_hujan = True\n"
   ]
  },
  {
   "cell_type": "markdown",
   "metadata": {},
   "source": [
    "Tugas\n",
    "case : ekonomi keuangan menggunakan percabangan"
   ]
  },
  {
   "cell_type": "code",
   "execution_count": 24,
   "metadata": {},
   "outputs": [
    {
     "name": "stdout",
     "output_type": "stream",
     "text": [
      "cetak 1 ganjil\n",
      "cetak 2 genap\n",
      "cetak 3 ganjil\n",
      "cetak 4 genap\n",
      "cetak 5 ganjil\n",
      "cetak 6 genap\n",
      "cetak 7 ganjil\n",
      "cetak 8 genap\n",
      "cetak 9 ganjil\n",
      "cetak 10 genap\n"
     ]
    }
   ],
   "source": [
    "i = 0\n",
    "while i < 10:\n",
    "    #print(\"Cetak \", i)\n",
    "    i += 1\n",
    "    if i % 2 == 0:\n",
    "        print(\"cetak\", i, \"genap\")\n",
    "    else:\n",
    "        print(\"cetak\", i, \"ganjil\")"
   ]
  },
  {
   "cell_type": "code",
   "execution_count": 35,
   "metadata": {},
   "outputs": [
    {
     "name": "stdout",
     "output_type": "stream",
     "text": [
      "aku 2\n",
      "aku 4\n",
      "aku 8\n",
      "aku 16\n",
      "aku 32\n",
      "aku 64\n"
     ]
    }
   ],
   "source": [
    "i = 2\n",
    "while i < 100:\n",
    "    print(\"aku\", i)\n",
    "    i = i * 2"
   ]
  },
  {
   "cell_type": "code",
   "execution_count": 32,
   "metadata": {},
   "outputs": [
    {
     "name": "stdout",
     "output_type": "stream",
     "text": [
      "aku 4\n",
      "aku 6\n",
      "aku 12\n",
      "aku 26\n",
      "aku 56\n"
     ]
    }
   ],
   "source": [
    "i = 2\n",
    "j = 0\n",
    "while i < 64:\n",
    "    i = i * 2\n",
    "    print(\"aku\", (i - j))\n",
    "    j += 2\n",
    "    "
   ]
  },
  {
   "cell_type": "markdown",
   "metadata": {},
   "source": [
    "case : perulangan digunakan untuk mempengaruhi case sebelumnya"
   ]
  },
  {
   "cell_type": "markdown",
   "metadata": {},
   "source": []
  }
 ],
 "metadata": {
  "kernelspec": {
   "display_name": "Python 3.7.9 64-bit",
   "language": "python",
   "name": "python3"
  },
  "language_info": {
   "codemirror_mode": {
    "name": "ipython",
    "version": 3
   },
   "file_extension": ".py",
   "mimetype": "text/x-python",
   "name": "python",
   "nbconvert_exporter": "python",
   "pygments_lexer": "ipython3",
   "version": "3.7.9"
  },
  "orig_nbformat": 4,
  "vscode": {
   "interpreter": {
    "hash": "340f8785b86713fc3f0ca7b8a71664d96fcb42f448ddb17a4c1424df05047e41"
   }
  }
 },
 "nbformat": 4,
 "nbformat_minor": 2
}
