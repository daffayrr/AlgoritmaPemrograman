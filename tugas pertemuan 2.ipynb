{
 "cells": [
  {
   "cell_type": "markdown",
   "metadata": {},
   "source": [
    "# Tugas Pertemuan ke 2\n",
    "Buatlah logika berdasarkan kehidupan sehari-hari, yang mengandung OR dan AND\n",
    "+ Nama  : Farras Daffa Yassarramadhan\n",
    "+ NIM   : 223200248\n",
    "+ Prodi : Informatika"
   ]
  },
  {
   "cell_type": "code",
   "execution_count": 2,
   "metadata": {},
   "outputs": [],
   "source": [
    "# List Kegiatan\n",
    "kerja = [\"Mengajar\" and \"Meeting\" and \"Ngoding\"] # Menggunakan Fungsi AND\n",
    "santai = [\"Nonton\" or \"Tidur\" or \"Healing\"] # Menggunakan Fungsi OR"
   ]
  },
  {
   "cell_type": "code",
   "execution_count": 3,
   "metadata": {},
   "outputs": [
    {
     "name": "stdout",
     "output_type": "stream",
     "text": [
      "Saya baru bekerja\n"
     ]
    }
   ],
   "source": [
    "# Menggunakan Fungsi AND\n",
    "if kerja == kerja:\n",
    "    print(\"Saya baru bekerja\")"
   ]
  },
  {
   "cell_type": "code",
   "execution_count": 4,
   "metadata": {},
   "outputs": [
    {
     "name": "stdout",
     "output_type": "stream",
     "text": [
      "Saya sedang santai\n"
     ]
    }
   ],
   "source": [
    "# Menggunakan fungsi OR\n",
    "if santai == santai:\n",
    "    print(\"Saya sedang santai\")"
   ]
  }
 ],
 "metadata": {
  "kernelspec": {
   "display_name": "Python 3 (ipykernel)",
   "language": "python",
   "name": "python3"
  },
  "language_info": {
   "codemirror_mode": {
    "name": "ipython",
    "version": 3
   },
   "file_extension": ".py",
   "mimetype": "text/x-python",
   "name": "python",
   "nbconvert_exporter": "python",
   "pygments_lexer": "ipython3",
   "version": "3.7.9"
  },
  "vscode": {
   "interpreter": {
    "hash": "340f8785b86713fc3f0ca7b8a71664d96fcb42f448ddb17a4c1424df05047e41"
   }
  }
 },
 "nbformat": 4,
 "nbformat_minor": 4
}
