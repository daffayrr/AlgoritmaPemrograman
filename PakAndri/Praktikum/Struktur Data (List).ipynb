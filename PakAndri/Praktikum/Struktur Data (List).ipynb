{
 "cells": [
  {
   "cell_type": "code",
   "execution_count": 32,
   "metadata": {},
   "outputs": [
    {
     "name": "stdout",
     "output_type": "stream",
     "text": [
      "['Sistem Komputer', 'Teknik Informatika', 2008, 2020]\n"
     ]
    }
   ],
   "source": [
    "lista = ['Sistem Komputer', 'Teknik Informatika', 2008, 2020]\n",
    "print(lista)"
   ]
  },
  {
   "cell_type": "code",
   "execution_count": 33,
   "metadata": {},
   "outputs": [
    {
     "name": "stdout",
     "output_type": "stream",
     "text": [
      "Nilai pada Index 2 :  2008\n",
      "Nilai baru pada index 2 :  2008\n"
     ]
    }
   ],
   "source": [
    "print(\"Nilai pada Index 2 : \", lista[2])\n",
    "\n",
    "list[2] = 2001\n",
    "print(\"Nilai baru pada index 2 : \", lista[2])"
   ]
  },
  {
   "cell_type": "code",
   "execution_count": 34,
   "metadata": {},
   "outputs": [
    {
     "name": "stdout",
     "output_type": "stream",
     "text": [
      "['Sistem Komputer', 'Teknik Informatika', 2008, 2020]\n",
      "Setelah dihapus nilai index 2 :  ['Sistem Komputer', 'Teknik Informatika', 2001]\n"
     ]
    }
   ],
   "source": [
    "print(lista)\n",
    "del lista[2]\n",
    "print(\"Setelah dihapus nilai index 2 : \", list)"
   ]
  },
  {
   "cell_type": "code",
   "execution_count": 35,
   "metadata": {},
   "outputs": [
    {
     "name": "stdout",
     "output_type": "stream",
     "text": [
      "Lis Angka :  [1, -2, -8, 0, 3]\n",
      "Nilai maksumum List Angka :  3\n",
      "Nilai maksumum List Angka :  -8\n"
     ]
    }
   ],
   "source": [
    "list_angka = [1, -2, -8, 0, 3]\n",
    "print(\"Lis Angka : \", list_angka)\n",
    "print(\"Nilai maksumum List Angka : \", max(list_angka))\n",
    "print(\"Nilai maksumum List Angka : \", min(list_angka))"
   ]
  },
  {
   "cell_type": "code",
   "execution_count": 8,
   "metadata": {},
   "outputs": [
    {
     "name": "stdout",
     "output_type": "stream",
     "text": [
      "['Pada hari Minggu, Budi dan Ani belajar di rumah Adi di Desa Konohagakure, Kecamatan Sukamaju']\n",
      "Teks yang lebih dari 4 :  ['Minggu,', 'belajar', 'rumah', 'Konohagakure,', 'Kecamatan', 'Sukamaju']\n"
     ]
    }
   ],
   "source": [
    "teks2 = \"Pada hari Minggu, Budi dan Ani belajar di rumah Adi di Desa Konohagakure, Kecamatan Sukamaju\"\n",
    "txt = teks2.split()\n",
    "x = [teks2]\n",
    "print(x)\n",
    "\n",
    "filtered = filter(lambda e: len(e) > 4, txt)\n",
    "print(\"Teks yang lebih dari 4 : \", list(filtered))"
   ]
  },
  {
   "cell_type": "code",
   "execution_count": 9,
   "metadata": {},
   "outputs": [
    {
     "name": "stdout",
     "output_type": "stream",
     "text": [
      "['Rusa', 'Buaya', 'Kucing', 'Elang', 'Bebek']\n"
     ]
    }
   ],
   "source": [
    "hewan = ['Rusa', 'Buaya', 'Kucing', 'Elang', 'Bebek']\n",
    "print(hewan)\n",
    "\n"
   ]
  }
 ],
 "metadata": {
  "kernelspec": {
   "display_name": "Python 3.8.10 64-bit",
   "language": "python",
   "name": "python3"
  },
  "language_info": {
   "codemirror_mode": {
    "name": "ipython",
    "version": 3
   },
   "file_extension": ".py",
   "mimetype": "text/x-python",
   "name": "python",
   "nbconvert_exporter": "python",
   "pygments_lexer": "ipython3",
   "version": "3.8.10"
  },
  "orig_nbformat": 4,
  "vscode": {
   "interpreter": {
    "hash": "50f92a894483b90d37829e622a33871b27f3b5decbf3450e8a1f9570503ac8b0"
   }
  }
 },
 "nbformat": 4,
 "nbformat_minor": 2
}
