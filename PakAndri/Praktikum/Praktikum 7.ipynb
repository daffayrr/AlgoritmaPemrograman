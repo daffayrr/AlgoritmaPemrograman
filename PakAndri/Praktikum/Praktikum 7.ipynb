{
 "cells": [
  {
   "cell_type": "code",
   "execution_count": 20,
   "metadata": {},
   "outputs": [
    {
     "name": "stdout",
     "output_type": "stream",
     "text": [
      "Ganjil\n"
     ]
    }
   ],
   "source": [
    "angka = int(input(\"Angka : \"))\n",
    "\n",
    "def cek_ganjil_genap(angka):\n",
    "    if angka % 2 == 0:\n",
    "        print(\"Genap\")\n",
    "    else:\n",
    "        print(\"Ganjil\")\n",
    "\n",
    "cek_ganjil_genap(angka)"
   ]
  },
  {
   "cell_type": "code",
   "execution_count": 34,
   "metadata": {},
   "outputs": [
    {
     "data": {
      "text/plain": [
       "120"
      ]
     },
     "execution_count": 34,
     "metadata": {},
     "output_type": "execute_result"
    }
   ],
   "source": [
    "\n",
    "faktorial = int(input(\"Faktorial : \"))\n",
    "\n",
    "def cek_faktorial(faktorial):\n",
    "    hasil = 1\n",
    "    for i in range(2, faktorial + 1):\n",
    "        hasil *= i\n",
    "    return hasil\n",
    "    \n",
    "cek_faktorial(faktorial)"
   ]
  },
  {
   "cell_type": "code",
   "execution_count": 23,
   "metadata": {},
   "outputs": [
    {
     "name": "stdout",
     "output_type": "stream",
     "text": [
      "2.0\n"
     ]
    }
   ],
   "source": [
    "alas = float(input(\"Masukan Alas : \")) # 40\n",
    "tinggi = float(input(\"Masukan TInggi : \")) # 60\n",
    "\n",
    "def luas_segitiga(alas, tinggi):\n",
    "    luas = 0.5 * alas * tinggi\n",
    "    print(luas)\n",
    "\n",
    "luas_segitiga(alas, tinggi)"
   ]
  },
  {
   "cell_type": "code",
   "execution_count": 25,
   "metadata": {},
   "outputs": [
    {
     "name": "stdout",
     "output_type": "stream",
     "text": [
      "Hello Danisha Lee\n"
     ]
    }
   ],
   "source": [
    "name = input(\"Masukan Nama : \")\n",
    "\n",
    "def sapa_teman(name):\n",
    "    print(\"Hello\", name)\n",
    "\n",
    "sapa_teman(name)"
   ]
  },
  {
   "cell_type": "code",
   "execution_count": 39,
   "metadata": {},
   "outputs": [
    {
     "data": {
      "text/plain": [
       "13.333333333333334"
      ]
     },
     "execution_count": 39,
     "metadata": {},
     "output_type": "execute_result"
    }
   ],
   "source": [
    "nA = int(input(\"Masukan Angka Pertama : \"))\n",
    "nB = int(input(\"Masukan Angka Kedua : \"))\n",
    "nC = int(input(\"Masukan Angka Ketiga : \"))\n",
    "\n",
    "def rata_rata(nA, nB, nC):\n",
    "    return(nA + nB + nC)/3\n",
    "\n",
    "rata_rata(nA, nB, nC)"
   ]
  },
  {
   "cell_type": "code",
   "execution_count": 40,
   "metadata": {},
   "outputs": [
    {
     "data": {
      "text/plain": [
       "9"
      ]
     },
     "execution_count": 40,
     "metadata": {},
     "output_type": "execute_result"
    }
   ],
   "source": [
    "bil = int(input(\"Masukan Angka Pertama : \"))\n",
    "pang = int(input(\"Masukan Angka Kedua : \"))\n",
    "\n",
    "def pangkat(bil, pang):\n",
    "    return bil ** pang\n",
    "\n",
    "pangkat(bil, pang)"
   ]
  },
  {
   "cell_type": "code",
   "execution_count": null,
   "metadata": {},
   "outputs": [],
   "source": []
  }
 ],
 "metadata": {
  "kernelspec": {
   "display_name": "Python 3.8.10 64-bit",
   "language": "python",
   "name": "python3"
  },
  "language_info": {
   "codemirror_mode": {
    "name": "ipython",
    "version": 3
   },
   "file_extension": ".py",
   "mimetype": "text/x-python",
   "name": "python",
   "nbconvert_exporter": "python",
   "pygments_lexer": "ipython3",
   "version": "3.8.10"
  },
  "orig_nbformat": 4,
  "vscode": {
   "interpreter": {
    "hash": "50f92a894483b90d37829e622a33871b27f3b5decbf3450e8a1f9570503ac8b0"
   }
  }
 },
 "nbformat": 4,
 "nbformat_minor": 2
}
