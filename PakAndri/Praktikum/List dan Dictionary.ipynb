{
 "cells": [
  {
   "cell_type": "code",
   "execution_count": 1,
   "metadata": {},
   "outputs": [
    {
     "name": "stdout",
     "output_type": "stream",
     "text": [
      "('sistem komputer', 'teknik informatika', 2008, 2017)\n",
      "(1, 2, 3, 4, 5)\n",
      "('a', 'b', 'c', 'd')\n"
     ]
    }
   ],
   "source": [
    "tup1 = ('sistem komputer', 'teknik informatika', 2008, 2017)\n",
    "tup2 = (1, 2, 3, 4, 5 )\n",
    "tup3 = \"a\", \"b\", \"c\", \"d\"\n",
    "print(tup1)\n",
    "print(tup2)\n",
    "print(tup3)"
   ]
  },
  {
   "cell_type": "code",
   "execution_count": 2,
   "metadata": {},
   "outputs": [
    {
     "name": "stdout",
     "output_type": "stream",
     "text": [
      "tup1[0]:  sistem komputer\n",
      "tup2[1:5]:  (2, 3, 4, 5)\n"
     ]
    }
   ],
   "source": [
    "tup1 = ('sistem komputer', 'teknik informatika', 2008, 2017)\n",
    "tup2 = (1, 2, 3, 4, 5, 6, 7 )\n",
    "print (\"tup1[0]: \", tup1[0])\n",
    "print (\"tup2[1:5]: \", tup2[1:5])"
   ]
  },
  {
   "cell_type": "code",
   "execution_count": 3,
   "metadata": {},
   "outputs": [
    {
     "name": "stdout",
     "output_type": "stream",
     "text": [
      "(12, 34.56, 'abc', 'xyz')\n"
     ]
    }
   ],
   "source": [
    "tup1 = (12, 34.56)\n",
    "tup2 = ('abc', 'xyz')\n",
    "# Aksi seperti dibawah ini tidak bisa dilakukan pada tuple python\n",
    "# Karena memang nilai pada tuple python tidak bisa diubah\n",
    "# tup1[0] = 100;\n",
    "# Jadi, buatlah tuple baru sebagai berikut\n",
    "tup3 = tup1 + tup2\n",
    "print (tup3)"
   ]
  },
  {
   "cell_type": "code",
   "execution_count": 8,
   "metadata": {},
   "outputs": [
    {
     "name": "stdout",
     "output_type": "stream",
     "text": [
      "program 1\n",
      "('tuple', False, 3.2, 1)\n",
      "program 2\n",
      "(5, 10, 15, 20, 25)\n",
      "(5,)\n",
      "program 3\n",
      "(4, 6, 2, 8, 3, 1)\n",
      "(4, 6, 2, 8, 3, 1, 9)\n",
      "(4, 6, 2, 8, 3, 15, 20, 25, 4, 6, 2, 8, 3)\n",
      "(4, 6, 2, 8, 3, 15, 20, 25, 4, 6, 2, 8, 3, 30)\n"
     ]
    }
   ],
   "source": [
    "#program 1\n",
    "#Membuat tupel dengan tipe data yang berbeda\n",
    "print(\"program 1\")\n",
    "tuplex = (\"tuple\", False, 3.2, 1)\n",
    "print(tuplex)\n",
    "\n",
    "#program 2\n",
    "print(\"program 2\")\n",
    "#Membuat tupel dengan angka\n",
    "tuplex = 5, 10, 15, 20, 25\n",
    "print(tuplex)\n",
    "#Create a tuple of one item\n",
    "tuplex = 5,\n",
    "print(tuplex)\n",
    "print(\"program 3\")\n",
    "\n",
    "#program 3\n",
    "#membuat tupel\n",
    "tuplex = (4, 6, 2, 8, 3, 1)\n",
    "print(tuplex)\n",
    "#tupel tidak dapat diubah, sehingga Anda tidak dapat menambahkan elemen baru\n",
    "#Menggunakan penggabungan tupel dengan operator + Anda dapat menambahkan elemen dan itu\n",
    "#akan membuat tupel baru\n",
    "tuplex = tuplex + (9,)\n",
    "print(tuplex)\n",
    "#Menambahkan item dalam indeks tertentu\n",
    "tuplex = tuplex[:5] + (15, 20, 25) + tuplex[:5]\n",
    "print(tuplex)\n",
    "#mengonversi tupel ke list\n",
    "listx = list(tuplex)\n",
    "#Menggunakan berbagai cara untuk menambahkan item dalam list\n",
    "listx.append(30)\n",
    "tuplex = tuple(listx)\n",
    "print(tuplex)\n",
    "\n"
   ]
  },
  {
   "cell_type": "code",
   "execution_count": 9,
   "metadata": {},
   "outputs": [
    {
     "ename": "TypeError",
     "evalue": "'type' object is not subscriptable",
     "output_type": "error",
     "traceback": [
      "\u001b[1;31m---------------------------------------------------------------------------\u001b[0m",
      "\u001b[1;31mTypeError\u001b[0m                                 Traceback (most recent call last)",
      "Cell \u001b[1;32mIn [9], line 6\u001b[0m\n\u001b[0;32m      4\u001b[0m \u001b[39mdict\u001b[39m\u001b[39m.\u001b[39mclear() \u001b[39m# hapus semua entri di dict\u001b[39;00m\n\u001b[0;32m      5\u001b[0m \u001b[39mdel\u001b[39;00m \u001b[39mdict\u001b[39m \u001b[39m# hapus dictionary yang sudah ada\u001b[39;00m\n\u001b[1;32m----> 6\u001b[0m \u001b[39mprint\u001b[39m (\u001b[39m\"\u001b[39m\u001b[39mdict[\u001b[39m\u001b[39m'\u001b[39m\u001b[39mAge\u001b[39m\u001b[39m'\u001b[39m\u001b[39m]: \u001b[39m\u001b[39m\"\u001b[39m, \u001b[39mdict\u001b[39m[\u001b[39m'\u001b[39m\u001b[39mAge\u001b[39m\u001b[39m'\u001b[39m])\n\u001b[0;32m      7\u001b[0m \u001b[39mprint\u001b[39m (\u001b[39m\"\u001b[39m\u001b[39mdict[\u001b[39m\u001b[39m'\u001b[39m\u001b[39mSchool\u001b[39m\u001b[39m'\u001b[39m\u001b[39m]: \u001b[39m\u001b[39m\"\u001b[39m, \u001b[39mdict\u001b[39m[\u001b[39m'\u001b[39m\u001b[39mSchool\u001b[39m\u001b[39m'\u001b[39m])\n",
      "\u001b[1;31mTypeError\u001b[0m: 'type' object is not subscriptable"
     ]
    }
   ],
   "source": [
    "#Contoh cara menghapus pada Dictionary Python\n",
    "dict = {'Name': 'Zara', 'Age': 7, 'Class': 'First'}\n",
    "del dict['Name'] # hapus entri dengan key 'Name'\n",
    "dict.clear() # hapus semua entri di dict\n",
    "del dict # hapus dictionary yang sudah ada\n",
    "print (\"dict['Age']: \", dict['Age'])\n",
    "print (\"dict['School']: \", dict['School'])"
   ]
  },
  {
   "cell_type": "code",
   "execution_count": 10,
   "metadata": {},
   "outputs": [
    {
     "name": "stdout",
     "output_type": "stream",
     "text": [
      "\n",
      "contoh 1\n",
      "{1: 10, 2: 20, 3: 30, 4: 40, 5: 50, 6: 60}\n",
      "\n",
      "contoh 2\n",
      "3  tersedia dalam dictionary\n",
      "\n",
      "contoh 3\n",
      "{'a': 100, 'b': 200, 'x': 300, 'y': 200}\n"
     ]
    }
   ],
   "source": [
    "#contoh penggunaan dictionary\n",
    "print(\"\\ncontoh 1\")\n",
    "dic1={1:10, 2:20}\n",
    "dic2={3:30, 4:40}\n",
    "dic3={5:50,6:60}\n",
    "dic4 = {}\n",
    "for d in (dic1, dic2, dic3): dic4.update(d)\n",
    "print(dic4)\n",
    "\n",
    "\n",
    "print(\"\\ncontoh 2\")\n",
    "d = {1: 10, 2: 20, 3: 30, 4: 40, 5: 50, 6: 60}\n",
    "cek_angka = 3\n",
    "if cek_angka in d:\n",
    "    print(cek_angka,' tersedia dalam dictionary')\n",
    "else:\n",
    "    print(cek_angka,'tidak tersedia dalam dictionary')\n",
    "\n",
    "\n",
    "print(\"\\ncontoh 3\")\n",
    "d1 = {'a': 100, 'b': 200}\n",
    "d2 = {'x': 300, 'y': 200}\n",
    "d = d1.copy()\n",
    "d.update(d2)\n",
    "print(d)"
   ]
  },
  {
   "cell_type": "code",
   "execution_count": 12,
   "metadata": {},
   "outputs": [
    {
     "name": "stdout",
     "output_type": "stream",
     "text": [
      "{1: 'skjdcn', 2: 'snkd cks'}\n"
     ]
    }
   ],
   "source": [
    "inpt = int(input(\"Masukan ANgka yang Diinginkan : \"))\n",
    "\n",
    "banyak_data = {}\n",
    "for i in range(inpt):\n",
    "    x = int(input(\"Masukan Data Key : \"))\n",
    "    y = input(\"Masukan Data :\")\n",
    "    banyak_data[x] = y\n",
    "\n",
    "print(banyak_data)"
   ]
  },
  {
   "cell_type": "code",
   "execution_count": 13,
   "metadata": {},
   "outputs": [
    {
     "name": "stdout",
     "output_type": "stream",
     "text": [
      "dict['Key']:  Mah001\n",
      "dict['Nim']:  19022001\n",
      "Dict['Name']:  Toro Kirik\n",
      "Dict['Sks']:  144\n",
      "Dict['Beasiswa']:  0\n",
      "Dict['Lahir']:  04/10/01\n"
     ]
    }
   ],
   "source": [
    "dict = {'Key': 'Mah001', 'Nim': 19022001, 'Name': 'Toro Kirik', 'Sks' : '144', 'Beasiswa': '0', 'Lahir': '04/10/01'}\n",
    "print (\"dict['Key']: \", dict['Key'])\n",
    "print (\"dict['Nim']: \", dict['Nim'])\n",
    "print (\"Dict['Name']: \", dict ['Name'])\n",
    "print (\"Dict['Sks']: \", dict ['Sks'])\n",
    "print (\"Dict['Beasiswa']: \", dict ['Beasiswa'])\n",
    "print (\"Dict['Lahir']: \", dict ['Lahir'])"
   ]
  }
 ],
 "metadata": {
  "kernelspec": {
   "display_name": "Python 3.8.10 64-bit",
   "language": "python",
   "name": "python3"
  },
  "language_info": {
   "codemirror_mode": {
    "name": "ipython",
    "version": 3
   },
   "file_extension": ".py",
   "mimetype": "text/x-python",
   "name": "python",
   "nbconvert_exporter": "python",
   "pygments_lexer": "ipython3",
   "version": "3.8.10"
  },
  "orig_nbformat": 4,
  "vscode": {
   "interpreter": {
    "hash": "50f92a894483b90d37829e622a33871b27f3b5decbf3450e8a1f9570503ac8b0"
   }
  }
 },
 "nbformat": 4,
 "nbformat_minor": 2
}
