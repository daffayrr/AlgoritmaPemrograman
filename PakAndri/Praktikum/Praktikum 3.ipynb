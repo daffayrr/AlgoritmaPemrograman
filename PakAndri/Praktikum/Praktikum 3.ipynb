{
 "cells": [
  {
   "cell_type": "markdown",
   "metadata": {},
   "source": [
    "# Praktikum 3\n",
    "Memahami List, Tuple, Dictionary, Tipe Data Set di Python\n",
    "+ Nama : Farras Daffa Yassarramadhan\n",
    "+ NIM : 223200248\n",
    "+ Prodi : Informatika\n"
   ]
  },
  {
   "cell_type": "code",
   "execution_count": 54,
   "metadata": {},
   "outputs": [
    {
     "name": "stdout",
     "output_type": "stream",
     "text": [
      "['Jeruk', 'Naga', 'Pepaya', 'Mangga']\n"
     ]
    }
   ],
   "source": [
    "buah = ['Jeruk', 'Naga', 'Pepaya', 'Mangga']\n",
    "print(buah)"
   ]
  },
  {
   "cell_type": "code",
   "execution_count": 55,
   "metadata": {},
   "outputs": [
    {
     "name": "stdout",
     "output_type": "stream",
     "text": [
      "['Jeruk', 'Naga', 'Pepaya', 'Mangga', 'Sirsak']\n"
     ]
    }
   ],
   "source": [
    "buah.append('Sirsak')\n",
    "print(buah)"
   ]
  },
  {
   "cell_type": "code",
   "execution_count": 56,
   "metadata": {},
   "outputs": [
    {
     "name": "stdout",
     "output_type": "stream",
     "text": [
      "['Jambu', 'Jeruk', 'Naga', 'Pepaya', 'Mangga', 'Sirsak']\n"
     ]
    }
   ],
   "source": [
    "buah.insert(0, 'Jambu')\n",
    "print(buah)"
   ]
  },
  {
   "cell_type": "code",
   "execution_count": 57,
   "metadata": {},
   "outputs": [
    {
     "name": "stdout",
     "output_type": "stream",
     "text": [
      "['Jambu', 'Jeruk', 'Manggis', 'Naga', 'Pepaya', 'Mangga', 'Sirsak']\n"
     ]
    }
   ],
   "source": [
    "buah.insert(2, 'Manggis')\n",
    "print(buah)"
   ]
  },
  {
   "cell_type": "code",
   "execution_count": 17,
   "metadata": {},
   "outputs": [
    {
     "name": "stdout",
     "output_type": "stream",
     "text": [
      "[1, 2, 3, 4]\n"
     ]
    }
   ],
   "source": [
    "# Menghapus angka 5 dari list\n",
    "angka = [1, 2, 3, 4, 5]\n",
    "angka.remove(5)\n",
    "print(angka)"
   ]
  },
  {
   "cell_type": "markdown",
   "metadata": {},
   "source": [
    "## Part 2"
   ]
  },
  {
   "cell_type": "code",
   "execution_count": null,
   "metadata": {},
   "outputs": [],
   "source": []
  }
 ],
 "metadata": {
  "kernelspec": {
   "display_name": "Python 3.8.10 64-bit",
   "language": "python",
   "name": "python3"
  },
  "language_info": {
   "codemirror_mode": {
    "name": "ipython",
    "version": 3
   },
   "file_extension": ".py",
   "mimetype": "text/x-python",
   "name": "python",
   "nbconvert_exporter": "python",
   "pygments_lexer": "ipython3",
   "version": "3.8.10"
  },
  "orig_nbformat": 4,
  "vscode": {
   "interpreter": {
    "hash": "50f92a894483b90d37829e622a33871b27f3b5decbf3450e8a1f9570503ac8b0"
   }
  }
 },
 "nbformat": 4,
 "nbformat_minor": 2
}
