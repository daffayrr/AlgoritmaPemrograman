{
 "cells": [
  {
   "cell_type": "markdown",
   "metadata": {},
   "source": [
    "# Intel® AI For Youth Final Project \n",
    "\n",
    "Abstrak : Project ini memiliki latar belakang dari banyaknya Tweet atau cuitan yang ada di aplikasi sosial media Twitter mengenai hal-hal <br> negatif maupu kritik yang kurang tepat baik dengan orang lain, lembaga umum, hingga lembaga pemerintahan. Aplikasi ini dibuat menggunakan pemrosesan kata atau _NLP (Neural Language Processing)_. Dari sistem ini, nantinya akan diketahui <br>seberapa banyak Tweet atau cuitan mengenai kata-kata Positif, Netral dan Negatif terhadap orang lain, lembaga umum, maupun lembaga pemerintahan. Dengan demikian, dapat diperoleh data mengenai muatan yang terkandung dalam <br>cuitan atau Tweet yang ditulis oleh pengguna Twitter\n",
    "\n",
    "<br>\n",
    "©2021, Farras Daffa Yassarramadhan<br>\n",
    "Yayasan Sagasitas Indonesia, SL2 Indonesia, Intel® Asia Pacific<br>\n",
    "<i>Project ini akan direview Tim Sagasitas dan Tim SL2 Indonesia untuk dikirim ke Intel® Asia Pacific<i>"
   ]
  },
  {
   "cell_type": "markdown",
   "metadata": {},
   "source": [
    "## Inisialisasi\n",
    "Pada tahap ini melakukan Inisialisasi dengan mengimport beberapa package untuk membuat sistem NLP dengan menggunakan TextBlob. Setelah melakukan mengimport package, dilakukan Inisialisasi API Key Twitter dan juga Access Token Twitter yang telah<br> didapatkan dari website <a href=\"https://developer.twitter.com\">Twitter Developer</a>"
   ]
  },
  {
   "cell_type": "markdown",
   "metadata": {},
   "source": [
    "Berikut adalah beberapa Package yang akan digunakan dalam Project ini"
   ]
  },
  {
   "cell_type": "code",
   "execution_count": 1,
   "metadata": {},
   "outputs": [],
   "source": [
    "import tweepy\n",
    "from tweepy import OAuthHandler\n",
    "import re\n",
    "from textblob import TextBlob\n",
    "import json"
   ]
  },
  {
   "cell_type": "markdown",
   "metadata": {},
   "source": [
    "Pada bagian ini adalah memasukan API Key Twitter dan Access Token Twitter ke dalam python dengan membuatnya menjadi String"
   ]
  },
  {
   "cell_type": "code",
   "execution_count": 2,
   "metadata": {},
   "outputs": [],
   "source": [
    "consumer_key = 'Tg0vgC8HcxOS3O2WeLBma2U3L'\n",
    "consumer_secret = '1x1udr7fR9pCMICooCZHFz2VXxb4Ztfcnd49kOF5l7e8fgejS8'\n",
    "access_token = '1596773227074031616-gnheYn8HCghcmrclZDWWgD5TnHKARo'\n",
    "access_token_secret = 'TzSO98apuBzyODdk3gWwe3d7X874OqnTpSijTpDfmRGrM'"
   ]
  },
  {
   "cell_type": "markdown",
   "metadata": {},
   "source": [
    "Setelah memasukan API Key Twitter dan Access Token Twitter ke dalam Python String, langka selanjutnya adalah menguji apakah API Key dan Access Key tersebut dapat digunakan. Pada tahap ini menggunakan perintah _Try .. Except_"
   ]
  },
  {
   "cell_type": "code",
   "execution_count": 3,
   "metadata": {},
   "outputs": [],
   "source": [
    "try:\n",
    "\t# membuat object OAuthHandler \n",
    "\tauth = OAuthHandler(consumer_key, consumer_secret)\n",
    "\t# memasukan access token dan secret\n",
    "\tauth.set_access_token(access_token, access_token_secret)\n",
    "\t# membuat tweepy API object untuk mengambil konten Twitter\n",
    "\tapi = tweepy.API(auth)\n",
    "except:\n",
    "\t# Jika autentikasi dengan API gagal\n",
    "\tprint(\"Error: Autentikasi Gagal\")"
   ]
  },
  {
   "cell_type": "markdown",
   "metadata": {},
   "source": [
    "## Input Query"
   ]
  },
  {
   "cell_type": "markdown",
   "metadata": {},
   "source": [
    "Baagian ini adalah membuat sebuah variabel inout string yang akan dimasukan sebagai Query pencarian Tweet yang ada di dalam aplikasi Twitter. Pada bagian ini menggunakan pengaturan Bahasa Indonesia (ID) dengan cumlah pencarian sebanyak 500 Tweets"
   ]
  },
  {
   "cell_type": "code",
   "execution_count": 4,
   "metadata": {},
   "outputs": [],
   "source": [
    "query = input(\"Masukan Pencarian Tweet yang diinginkan : \")\n",
    "\n",
    "hasilPencarian = api.search_tweets(q=query, lang=\"id\", count=500)\n",
    "#tweets"
   ]
  },
  {
   "cell_type": "markdown",
   "metadata": {},
   "source": [
    "## Processing & Filterisasi"
   ]
  },
  {
   "cell_type": "markdown",
   "metadata": {},
   "source": [
    "Di tahap ini code Python akan menjalankan pencarian sesuai dengan Query pada code diatasnya dan kemudian dilakukan beberapa filterisasi, diantaranya:\n",
    "1. id (Digunakan untuk membuat JSON)\n",
    "2. Sumber\n",
    "3. Pengguna (Username)\n",
    "4. Isi dari Tweet\n",
    "\n",
    "Selain filterisasi diatas, juga dilakukan filterisasi karakter khusus maupun hal lain yag tidak akan digunakan di dalam project ini.\n",
    "Di tahap ini jugadilakukan pengukuran Pola Sentiment dengan menggunakan TextBlob, dimana teks yang lebih besar dari 0 akan dianggap kalimat positif, sama dengan 0 dianggap kalimat netral, dan jika tidak diantara keduanya akan dianggap kalimat negatif"
   ]
  },
  {
   "cell_type": "code",
   "execution_count": 5,
   "metadata": {},
   "outputs": [
    {
     "name": "stdout",
     "output_type": "stream",
     "text": [
      "bharat You forgot digital rupee Baboru digital world ni India sasinchali ani digital curr\n",
      "0.0\n",
      "MINING BTC SEMINGGU LANGSUNG WD 500 RIBU MASUK LANGSUNG KE INDODAX REKENING Bu Bisa lebih dari 500 ribu dalam\n",
      "0.0\n",
      "RT 20 like for the next cryptobox Nrpxczzq KN3M8GSO Uy7fdy5j PWC1BC6C VZIH5IOO btc binance crypto kripto cryptobox\n",
      "0.0\n",
      "4 54 shiba 0 68 cardano 0 02 bnb 4 80 solano 3 74 cardano 1 91 dogecoin 0 43 bitcoin 0 03 shiba\n",
      "0.0\n",
      "RT MA Whale Bitcoin telah menghabiskan masa selama 13 bulan membuang pegangan terkumpul mereka apabila harga turun Walau ba\n",
      "0.0\n",
      "shib 0 10 bitcoin 2 54 shib 4 48 shiba 4 61 ada 0 47 ada 0 67 ltc 0 01 btc 3 52 bnb 0 02\n",
      "0.0\n",
      "RT Cyber Monday empieza hoy bitcoin ElSalvador Bukele VisitElSalvador\n",
      "0.0\n",
      "1 16 xlm 3 45 eos 2 35 yell 0 70 rose 4 54 hayw 2 97 kas 0 59 terra 1 56 binance 0 39 xrp 1\n",
      "0.6\n",
      "RT Selamat pagi di pagi hari ini FTM mengalami kenaikan sebesar 10 7 diikuti oleh BTS dengan kenaikan sebesar 9 5 dalam 24 jam\n",
      "0.0\n",
      "RT MA Whale Bitcoin telah menghabiskan masa selama 13 bulan membuang pegangan terkumpul mereka apabila harga turun Walau ba\n",
      "0.0\n",
      "RT MA Whale Bitcoin telah menghabiskan masa selama 13 bulan membuang pegangan terkumpul mereka apabila harga turun Walau ba\n",
      "0.0\n",
      "RT MA Whale Bitcoin telah menghabiskan masa selama 13 bulan membuang pegangan terkumpul mereka apabila harga turun Walau ba\n",
      "0.0\n",
      "btc 0 06 xrp 3 52 ethereum 3 62 trx 2 15 btc 1 24 bitcoin 3 27 ltc 4 03 ada 1 56 shib 0 6\n",
      "0.0\n",
      "Bitcoin BTC Local vs Global Price Binance 16 282 USDT WazirX 16 078 USDT WazirX BTC INR 1 3\n",
      "0.0\n",
      "1 67 shiba 3 74 eth 1 99 litecoin 4 79 ethereum 0 11 ftt 4 91 btc 2 25 doge 1 62 ada 3 99 b\n",
      "0.0\n",
      "RT MA Whale Bitcoin telah menghabiskan masa selama 13 bulan membuang pegangan terkumpul mereka apabila harga turun Walau ba\n",
      "0.0\n",
      "RT MA Whale Bitcoin telah menghabiskan masa selama 13 bulan membuang pegangan terkumpul mereka apabila harga turun Walau ba\n",
      "0.0\n",
      "woow Vanguard paris\n",
      "0.0\n",
      "RT Como Minar Bitcoin con una RaspberryPi LotteryMinerPi\n",
      "0.0\n",
      "RT MA Whale Bitcoin telah menghabiskan masa selama 13 bulan membuang pegangan terkumpul mereka apabila harga turun Walau ba\n",
      "0.0\n",
      "3 62 bitcoin 2 27 ftt 3 52 dogecoin 4 56 shiba 3 58 shib 2 77 trx 3 94 sol 1 90 dogecoin 4 68\n",
      "0.0\n",
      "Bitcoin BTC Local vs Global Price Binance Global 16 281 USDT Paribu 16 263 USDT Pa\n",
      "0.0\n",
      "3 5 bilion Bitcoin telah ditarik balik daripada Coinbase dalam 4 hari lalu Glassnode\n",
      "0.0\n",
      "RT MA Whale Bitcoin telah menghabiskan masa selama 13 bulan membuang pegangan terkumpul mereka apabila harga turun Walau ba\n",
      "0.0\n",
      "ada 2 95 ftt 2 94 solano 1 92 ltc 0 91 ftx 4 75 btc 2 29 ada 3 99 bitcoin 0 24 ripple 0 9\n",
      "0.0\n",
      "s bitcoin tenkay\n",
      "0.0\n",
      "Whale Bitcoin telah menghabiskan masa selama 13 bulan membuang pegangan terkumpul mereka apabila harga turun Wa\n",
      "0.0\n",
      "shiba 2 24 cardano 4 14 cardano 1 76 eth 2 35 ethereum 0 02 xrp 2 88 bitcoin 3 99 shib 4 09\n",
      "0.0\n",
      "lah bitcoin aja founder nya gaada yg tau lawak lu bro cryp\n",
      "0.0\n",
      "RT Selamat pagi di pagi hari ini FTM mengalami kenaikan sebesar 10 7 diikuti oleh BTS dengan kenaikan sebesar 9 5 dalam 24 jam\n",
      "0.0\n",
      "Haram\n",
      "0.0\n",
      "Bitcoin Binance 1d BTCUSDT 16251 21 RSI 34 21 StochRSI 72 98 80 04 macd 628 31 688 86 sma8 16412 83 sma21 165\n",
      "0.0\n",
      "RT Selamat pagi di pagi hari ini FTM mengalami kenaikan sebesar 10 7 diikuti oleh BTS dengan kenaikan sebesar 9 5 dalam 24 jam\n",
      "0.0\n",
      "RT Inovasi terbaru di Avalanche xyz DEX terbesar di blockchain Avalanche meluncurkan Liquidity Book BTC b t\n",
      "0.0\n",
      "Bitcoin BTC Local vs Global Price Binance 16 256 USDT Bitkub 16 259 USDT Bitkub BTC THB 5\n",
      "0.0\n",
      "Selamat pagi di pagi hari ini FTM mengalami kenaikan sebesar 10 7 diikuti oleh BTS dengan kenaikan sebesar 9 5 d\n",
      "0.0\n",
      "RT pantesan aku ga pernah menang giveaway yg gede gede ternyata nft bitcoin crypto itu haram hukumnya dalam Islam than\n",
      "0.0\n",
      "BTC 16255 43 ETH 1177 32 ADA 0 308382 bitcoin btc ethereum eth ada cardano crypro prices\n",
      "0.0\n",
      "BTCUSDT Analysis for BINANCE BTCUSDTPERP by abtonc bitcoin crypto btc btc\n",
      "0.0\n",
      "Sinyal Binary Option Gratis ASET BTCUSD BTCJPY bitcoin ARAH LOW 16226 83 JANGKA WAKTU 5 MENIT PLATFO\n",
      "0.0\n",
      "Harga Bitcoin kat Luno RM277 000 tertinggi RM138 500 50 RM110 800 60 RM 83 100 70 RM 69 250 75 RM 55\n",
      "0.0\n",
      "RT 20 like for the next cryptobox Nrpxczzq KN3M8GSO Uy7fdy5j PWC1BC6C VZIH5IOO btc binance crypto kripto cryptobox\n",
      "0.0\n",
      "Crypto prices Bitcoin BTC 16189 31 24Hr 0 28 1Hr 0 22 Ethereum ETH 1167 46 24Hr 0 69 1Hr 0 21\n",
      "0.0\n",
      "Yang mau daftar BITCOIN bisa di dapat pulsa gratis\n",
      "0.0\n",
      "RVN Short Setup JOIN FREE TELEGRAM Bitcoin rudrfx cryptocrash trading sol\n",
      "0.2\n",
      "RT Inovasi terbaru di Avalanche xyz DEX terbesar di blockchain Avalanche meluncurkan Liquidity Book BTC b t\n",
      "0.0\n",
      "Obsession Fabio DeMasi gegen Bitcoin via\n",
      "0.0\n",
      "Bitcoin Binance 4h BTCUSDT 16179 86 RSI 32 87 StochRSI 22 76 17 63 macd 59 48 31 42 sma8 16225 77 sma21 16422\n",
      "0.0\n",
      "Klaytn KLAY November 29 for BINANCE KLAYUSDT by readCrypto bitcoin crypto btc btc\n",
      "0.0\n",
      "3 87 shiba 2 20 ada 4 63 bnb 4 33 lyft 3 94 ont 3 13 bitcoin 4 06 mask 3 65 ctrm 3 99\n",
      "0.0\n",
      "RT KURONURI Mooonnnnnnnn LIMO USDT 65 4594 6 963 high 65 6389 low 59 3612 Bitstabl\n",
      "0.08\n",
      "RT KURONURI Mooonnnnnnnn LIMO USDT 65 4594 6 963 high 65 6389 low 59 3612 Bitstabl\n",
      "0.08\n",
      "Bitcoin BTC Local vs Global Price Binance Global 16 179 USDT Indodax 16 177 USDT Indod\n",
      "0.0\n",
      "RT KURONURI Mooonnnnnnnn LIMO USDT 65 4594 6 963 high 65 6389 low 59 3612 Bitstabl\n",
      "0.08\n",
      "RT KURONURI Mooonnnnnnnn LIMO USDT 65 4594 6 963 high 65 6389 low 59 3612 Bitstabl\n",
      "0.08\n",
      "RT KURONURI Mooonnnnnnnn LIMO USDT 65 4594 6 963 high 65 6389 low 59 3612 Bitstabl\n",
      "0.08\n",
      "Ternyata Tidak Sulit Mining Bitcoin dan Bisa dapat profit harian Buruan Belajar Bersama Mibit Bitcoin\n",
      "0.0\n",
      "RT KURONURI Mooonnnnnnnn LIMO USDT 65 4594 6 963 high 65 6389 low 59 3612 Bitstabl\n",
      "0.08\n",
      "RT KURONURI Mooonnnnnnnn LIMO USDT 65 4594 6 963 high 65 6389 low 59 3612 Bitstabl\n",
      "0.08\n",
      "RT Cyber Monday empieza hoy bitcoin ElSalvador Bukele VisitElSalvador\n",
      "0.0\n",
      "Bitcoin BTC Local vs Global Price Binance 16 183 USDT WazirX 16 091 USDT WazirX BTC INR 1 4\n",
      "0.0\n",
      "RT KURONURI Mooonnnnnnnn LIMO USDT 65 4594 6 963 high 65 6389 low 59 3612 Bitstabl\n",
      "0.08\n",
      "Kirain scam ternyata land guyss Free mining btc BTC BTCUSDT Bitcoin\n",
      "0.4\n",
      "RT KURONURI Mooonnnnnnnn LIMO USDT 65 4594 6 963 high 65 6389 low 59 3612 Bitstabl\n",
      "0.08\n",
      "RT KURONURI Mooonnnnnnnn LIMO USDT 65 4594 6 963 high 65 6389 low 59 3612 Bitstabl\n",
      "0.08\n",
      "BTCUSDT 5m RSI Oversold BTC BTC Bitcoin\n",
      "0.0\n",
      "AGLD USDT Exchange Proyecto PE 0 256 TP1 0 291 TP2 0 320 TP3 0 377 SL\n",
      "0.0\n",
      "RT KURONURI Mooonnnnnnnn LIMO USDT 65 4594 6 963 high 65 6389 low 59 3612 Bitstabl\n",
      "0.08\n",
      "RT KURONURI Mooonnnnnnnn LIMO USDT 65 4594 6 963 high 65 6389 low 59 3612 Bitstabl\n",
      "0.08\n",
      "Crypto prices Bitcoin BTC 16159 65 24Hr 1 94 1Hr 0 48 Ethereum ETH 1165 5 24Hr 2 71 1Hr 0 49\n",
      "0.0\n",
      "RT Dow 33 849 46 497 57 1 45 Nas 11 049 50 176 86 1 58 S amp P500 3 963 94 62 18 1 54 EPHE 26 4400 1 38 TEL 2\n",
      "0.0\n",
      "RT KURONURI Mooonnnnnnnn LIMO USDT 65 4594 6 963 high 65 6389 low 59 3612 Bitstabl\n",
      "0.08\n",
      "RT KURONURI Mooonnnnnnnn LIMO USDT 65 4594 6 963 high 65 6389 low 59 3612 Bitstabl\n",
      "0.08\n",
      "RT KURONURI Mooonnnnnnnn LIMO USDT 65 4594 6 963 high 65 6389 low 59 3612 Bitstabl\n",
      "0.08\n",
      "RT KURONURI Mooonnnnnnnn LIMO USDT 65 4594 6 963 high 65 6389 low 59 3612 Bitstabl\n",
      "0.08\n",
      "RT KURONURI Mooonnnnnnnn LIMO USDT 65 4594 6 963 high 65 6389 low 59 3612 Bitstabl\n",
      "0.08\n",
      "RT KURONURI Mooonnnnnnnn LIMO USDT 65 4594 6 963 high 65 6389 low 59 3612 Bitstabl\n",
      "0.08\n",
      "RT KURONURI Mooonnnnnnnn LIMO USDT 65 4594 6 963 high 65 6389 low 59 3612 Bitstabl\n",
      "0.08\n",
      "RT KURONURI Mooonnnnnnnn LIMO USDT 65 4594 6 963 high 65 6389 low 59 3612 Bitstabl\n",
      "0.08\n",
      "RT KURONURI Mooonnnnnnnn LIMO USDT 65 4594 6 963 high 65 6389 low 59 3612 Bitstabl\n",
      "0.08\n",
      "Info sur btc BTCUSDT bitcoin btc crypto via\n",
      "0.0\n",
      "Bitcoin BTC Local vs Global Price Binance Global 16 145 USDT Paribu 16 168 USDT Pa\n",
      "0.0\n",
      "RT KURONURI Mooonnnnnnnn LIMO USDT 65 4594 6 963 high 65 6389 low 59 3612 Bitstabl\n",
      "0.08\n",
      "BTCUSDT 5m RSI Oversold BTC BTC Bitcoin\n",
      "0.0\n",
      "RT KURONURI Mooonnnnnnnn LIMO USDT 65 4594 6 963 high 65 6389 low 59 3612 Bitstabl\n",
      "0.08\n",
      "RT KURONURI Mooonnnnnnnn LIMO USDT 65 4594 6 963 high 65 6389 low 59 3612 Bitstabl\n",
      "0.08\n",
      "RT KURONURI Mooonnnnnnnn LIMO USDT 65 4594 6 963 high 65 6389 low 59 3612 Bitstabl\n",
      "0.08\n",
      "RT KURONURI Mooonnnnnnnn LIMO USDT 65 4594 6 963 high 65 6389 low 59 3612 Bitstabl\n",
      "0.08\n",
      "RT KURONURI Mooonnnnnnnn LIMO USDT 65 4594 6 963 high 65 6389 low 59 3612 Bitstabl\n",
      "0.08\n",
      "RT KURONURI Mooonnnnnnnn LIMO USDT 65 4594 6 963 high 65 6389 low 59 3612 Bitstabl\n",
      "0.08\n",
      "RT KURONURI Mooonnnnnnnn LIMO USDT 65 4594 6 963 high 65 6389 low 59 3612 Bitstabl\n",
      "0.08\n",
      "Bitcoin Binance 4h BTCUSDT 16156 52 RSI 31 82 StochRSI 21 18 17 10 macd 61 35 31 79 sma8 16222 85 sma21 16421\n",
      "0.0\n",
      "Kevin O Leary mencoba menyelamatkan crypto exchange FTX sebelum runtuh Dia dan mantan CEO FTX Sam Bankman Fried\n",
      "0.0\n",
      "RT KURONURI Mooonnnnnnnn LIMO USDT 65 4594 6 963 high 65 6389 low 59 3612 Bitstabl\n",
      "0.08\n",
      "Noti gang\n",
      "0.0\n",
      "RT KURONURI Mooonnnnnnnn LIMO USDT 65 4594 6 963 high 65 6389 low 59 3612 Bitstabl\n",
      "0.08\n",
      "RT KURONURI Mooonnnnnnnn LIMO USDT 65 4594 6 963 high 65 6389 low 59 3612 Bitstabl\n",
      "0.08\n",
      "RT KURONURI Mooonnnnnnnn LIMO USDT 65 4594 6 963 high 65 6389 low 59 3612 Bitstabl\n",
      "0.08\n",
      "RT Update Top 5 Pencarian Di CoinEx Hari Ini 1 DOGE 2 KAS 3 APE 4 BABYDOGE 5 CHZ CoinEx Membuat Perd\n",
      "0.5\n",
      "RT 10 Kripto Teratas Berdasarkan Kapitalisasi Pasar Minggu Ini di CoinEx CoinEx Membuat Perdagangan Aset Crypto Lebih\n",
      "0.0\n"
     ]
    }
   ],
   "source": [
    "hasilAnalisis = []\n",
    "\n",
    "for tweet in hasilPencarian:\n",
    "    tweet_properties = {}\n",
    "    tweet_properties[\"id\"] = tweet.id\n",
    "    tweet_properties[\"source\"] = tweet.source\n",
    "    tweet_properties[\"pengguna\"] = tweet.user.screen_name\n",
    "    tweet_properties[\"isi_tweet\"] = tweet.text\n",
    "    clean_tweet = ' '.join(re.sub(\"(@[A-Za-z0-9]+)|([^0-9A-Za-z \\t])|(\\w+:\\/\\/\\S+)\", \" \", tweet.text).split())\n",
    "    print(clean_tweet)\n",
    "\n",
    "    analysis = TextBlob(clean_tweet)\n",
    "    print(analysis.sentiment.polarity)\n",
    "\n",
    "    if analysis.sentiment.polarity > 0.0:\n",
    "        tweet_properties[\"sentiment\"] = \"positif\"\n",
    "    elif analysis.sentiment.polarity == 0.0:\n",
    "        tweet_properties[\"sentiment\"] = \"netral\"\n",
    "    else:\n",
    "        tweet_properties[\"sentiment\"] = \"negatif\"\n",
    "\n",
    "    if tweet.retweet_count > 0:\n",
    "        if tweet_properties not in hasilAnalisis:\n",
    "            hasilAnalisis.append(tweet_properties)\n",
    "    else:\n",
    "        hasilAnalisis.append(tweet_properties)"
   ]
  },
  {
   "cell_type": "markdown",
   "metadata": {},
   "source": [
    "## Klasifikasi"
   ]
  },
  {
   "cell_type": "markdown",
   "metadata": {},
   "source": [
    "Pada bagian ini akan dilakukan klasifikasi kalimat yang bermuatan Tweet Positif, Netral, Negatif berdasarkan hasil analisis yang dilakukan pada code diatas yang dimana teks yang lebih besar dari 0 akan dianggap kalimat positif, sama dengan 0 dianggap kalimat netral, dan jika tidak diantara keduanya akan dianggap kalimat negatif"
   ]
  },
  {
   "cell_type": "code",
   "execution_count": 6,
   "metadata": {},
   "outputs": [],
   "source": [
    "tweet_positif = [t for t in hasilAnalisis if t['sentiment']==\"positif\"]\n",
    "tweet_netral = [t for t in hasilAnalisis if t['sentiment']==\"netral\"]\n",
    "tweet_negatif = [t for t in hasilAnalisis if t['sentiment']==\"negatif\"]\n",
    "kalimat = [tweet_positif, tweet_netral, tweet_negatif]\n",
    "# print(kalimat) => akan mengeluarkan output berupa List yang berisi JSON dalam keadaan acak"
   ]
  },
  {
   "cell_type": "markdown",
   "metadata": {},
   "source": [
    "Data berikut ini merupakan hasil persentase yang didapatkan setelah dilakukan klasifikasi pada code diatas"
   ]
  },
  {
   "cell_type": "code",
   "execution_count": 7,
   "metadata": {},
   "outputs": [
    {
     "name": "stdout",
     "output_type": "stream",
     "text": [
      "Hasil Sentiment terhadap Bitcoin\n",
      "--------------------------------\n",
      "Tweet Positif =  Persentase 37.0 %\n",
      "Tweet Netral =  Persentase 63.0 %\n",
      "Tweet Negatif =  Persentase 0.0 %\n"
     ]
    }
   ],
   "source": [
    "# query yang dimasukkan dari input sebelumnya akan dicetak disini\n",
    "print(\"Hasil Sentiment terhadap\", query) \n",
    "print(\"--------------------------------\")\n",
    "print(\"Tweet Positif = \", \"Persentase\", \"{} %\".format(100*len(tweet_positif)/len(hasilAnalisis)))\n",
    "print(\"Tweet Netral = \", \"Persentase\", \"{} %\".format(100*len(tweet_netral)/len(hasilAnalisis)))\n",
    "print(\"Tweet Negatif = \", \"Persentase\", \"{} %\".format(100*len(tweet_negatif)/len(hasilAnalisis)))"
   ]
  },
  {
   "cell_type": "markdown",
   "metadata": {},
   "source": [
    "## Export Data Analisis"
   ]
  },
  {
   "cell_type": "markdown",
   "metadata": {},
   "source": [
    "Di bagian ini akan dilakukan expor data yang telah melakukan proses sebelumnya dan mendapat hasil positif, netral, negatif.<br> Hasil akan diexport dalam bentuk JSON agar mempermudah disaat pengembangan sistem lain"
   ]
  },
  {
   "cell_type": "code",
   "execution_count": 8,
   "metadata": {},
   "outputs": [
    {
     "name": "stdout",
     "output_type": "stream",
     "text": [
      "Membuat JSON Berhasil!\n"
     ]
    }
   ],
   "source": [
    "try:\n",
    "    json_object = json.dumps(kalimat, indent=4)\n",
    " \n",
    "    # Writing to sample.json\n",
    "    with open(\"sample.json\", \"w\") as outfile:\n",
    "        outfile.write(json_object)\n",
    "    print(\"Membuat JSON Berhasil!\")\n",
    "except:\n",
    "    print(\"Membuat JSON gagal\")\n"
   ]
  }
 ],
 "metadata": {
  "kernelspec": {
   "display_name": "Python 3.8.10 64-bit",
   "language": "python",
   "name": "python3"
  },
  "language_info": {
   "codemirror_mode": {
    "name": "ipython",
    "version": 3
   },
   "file_extension": ".py",
   "mimetype": "text/x-python",
   "name": "python",
   "nbconvert_exporter": "python",
   "pygments_lexer": "ipython3",
   "version": "3.8.10"
  },
  "orig_nbformat": 4,
  "vscode": {
   "interpreter": {
    "hash": "50f92a894483b90d37829e622a33871b27f3b5decbf3450e8a1f9570503ac8b0"
   }
  }
 },
 "nbformat": 4,
 "nbformat_minor": 2
}
