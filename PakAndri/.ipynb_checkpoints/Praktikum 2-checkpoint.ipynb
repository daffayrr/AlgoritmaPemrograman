{
 "cells": [
  {
   "cell_type": "markdown",
   "metadata": {},
   "source": [
    "# Praktikum 2"
   ]
  },
  {
   "cell_type": "markdown",
   "metadata": {},
   "source": [
    "## Operator Aritmatika"
   ]
  },
  {
   "cell_type": "markdown",
   "metadata": {},
   "source": [
    "### Penjumlahan"
   ]
  },
  {
   "cell_type": "code",
   "execution_count": 1,
   "metadata": {},
   "outputs": [
    {
     "name": "stdout",
     "output_type": "stream",
     "text": [
      "19\n"
     ]
    }
   ],
   "source": [
    "print(14 + 5)"
   ]
  },
  {
   "cell_type": "code",
   "execution_count": 2,
   "metadata": {},
   "outputs": [
    {
     "name": "stdout",
     "output_type": "stream",
     "text": [
      "16\n"
     ]
    }
   ],
   "source": [
    "tahu = 9\n",
    "tempe = 7\n",
    "bahan = tahu + tempe\n",
    "print(bahan)"
   ]
  },
  {
   "cell_type": "markdown",
   "metadata": {},
   "source": [
    "### Pengurangan"
   ]
  },
  {
   "cell_type": "code",
   "execution_count": 6,
   "metadata": {},
   "outputs": [
    {
     "name": "stdout",
     "output_type": "stream",
     "text": [
      "Sisa hutang adalah 34095889\n"
     ]
    }
   ],
   "source": [
    "hutang = 34098234\n",
    "bayar = 2345\n",
    "sisaHutang = hutang - bayar\n",
    "print(\"Sisa hutang adalah\", sisaHutang)"
   ]
  },
  {
   "cell_type": "markdown",
   "metadata": {},
   "source": [
    "### Perkalian"
   ]
  },
  {
   "cell_type": "code",
   "execution_count": 4,
   "metadata": {},
   "outputs": [
    {
     "name": "stdout",
     "output_type": "stream",
     "text": [
      "280\n"
     ]
    }
   ],
   "source": [
    "panjang = 14\n",
    "lebar = 20\n",
    "luas = panjang * lebar\n",
    "print(luas)"
   ]
  },
  {
   "cell_type": "markdown",
   "metadata": {},
   "source": [
    "### Pembagian"
   ]
  },
  {
   "cell_type": "code",
   "execution_count": 5,
   "metadata": {},
   "outputs": [
    {
     "name": "stdout",
     "output_type": "stream",
     "text": [
      "6.0\n"
     ]
    }
   ],
   "source": [
    "permen = 24\n",
    "siswa = 4\n",
    "sisa = permen/siswa\n",
    "print(sisa)"
   ]
  },
  {
   "cell_type": "markdown",
   "metadata": {},
   "source": [
    "### Sisa Bagi"
   ]
  },
  {
   "cell_type": "code",
   "execution_count": 7,
   "metadata": {},
   "outputs": [
    {
     "name": "stdout",
     "output_type": "stream",
     "text": [
      "Sisa bagi bilanga 14 dan 5 adalah 4\n"
     ]
    }
   ],
   "source": [
    "bil1 = 14\n",
    "bil2 = 5\n",
    "hasil = bil1 % bil2\n",
    "print(\"Sisa bagi bilanga\", bil1, \"dan\", bil2, \"adalah\", hasil)"
   ]
  },
  {
   "cell_type": "markdown",
   "metadata": {},
   "source": [
    "### Pangkat"
   ]
  },
  {
   "cell_type": "code",
   "execution_count": 8,
   "metadata": {},
   "outputs": [
    {
     "name": "stdout",
     "output_type": "stream",
     "text": [
      "64\n"
     ]
    }
   ],
   "source": [
    "bila1 = 8\n",
    "bila2 = 2\n",
    "hasilPangkat = bila1 ** bila2\n",
    "print(hasilPangkat)"
   ]
  },
  {
   "cell_type": "markdown",
   "metadata": {},
   "source": [
    "### Pembagian Bulat"
   ]
  },
  {
   "cell_type": "code",
   "execution_count": 9,
   "metadata": {},
   "outputs": [
    {
     "name": "stdout",
     "output_type": "stream",
     "text": [
      "3\n"
     ]
    }
   ],
   "source": [
    "print(10//3)"
   ]
  },
  {
   "cell_type": "markdown",
   "metadata": {},
   "source": [
    "### Input"
   ]
  },
  {
   "cell_type": "code",
   "execution_count": 12,
   "metadata": {},
   "outputs": [
    {
     "name": "stdout",
     "output_type": "stream",
     "text": [
      "Hasil Luas adalah :  36\n"
     ]
    }
   ],
   "source": [
    "# Menggunakan unit konversi INT\n",
    "panjangA = int(input(\"Masukan Panjang : \"))\n",
    "lebarA = int(input(\"Masukan Lebar : \"))\n",
    "hasilLuas = panjangA * lebarA\n",
    "print(\"Hasil Luas adalah : \", hasilLuas)"
   ]
  },
  {
   "cell_type": "code",
   "execution_count": 11,
   "metadata": {},
   "outputs": [
    {
     "name": "stdout",
     "output_type": "stream",
     "text": [
      "Hasil Luas adalah :  175.26\n"
     ]
    }
   ],
   "source": [
    "# Menggunakan konversi FLOAT\n",
    "panjangA = float(input(\"Masukan Panjang : \"))\n",
    "lebarA = float(input(\"Masukan Lebar : \"))\n",
    "hasilLuas = panjangA * lebarA\n",
    "print(\"Hasil Luas adalah : \", hasilLuas)"
   ]
  },
  {
   "cell_type": "markdown",
   "metadata": {},
   "source": [
    "### Tugas"
   ]
  },
  {
   "cell_type": "code",
   "execution_count": null,
   "metadata": {},
   "outputs": [],
   "source": [
    "# 1. Luas Persegi\n",
    "pjg = int(input(\"Masukan Panjang : \")) # 20\n",
    "lbr = int(input(\"Masukan Lebar : \")) # 20\n",
    "luasPersegi = pjg * lbr\n",
    "print(\"Luas Persegi Adalah\", luasPersegi)"
   ]
  },
  {
   "cell_type": "code",
   "execution_count": null,
   "metadata": {},
   "outputs": [],
   "source": [
    "# 2. Luas Persegi Panjang\n",
    "pjgPP = float(input(\"Masukan Panjang : \")) # 50\n",
    "lbrPP = float(input(\"Masukan Lebar : \")) # 25.5\n",
    "luasPP = pjgPP * lbrPP\n",
    "print(\"Luas Persegi Panjang Adalah\", luasPP)"
   ]
  },
  {
   "cell_type": "code",
   "execution_count": null,
   "metadata": {},
   "outputs": [],
   "source": [
    "# 3. Luas Segi Tiga\n",
    "alas = float(input(\"Masukan Alas : \")) # 40\n",
    "tinggi = float(input(\"Masukan TInggi : \")) # 60\n",
    "luasSegiTiga = 0.5 * alas * tinggi\n",
    "print(\"Luas Segi Tiga Adalah : \", luasSegiTiga)"
   ]
  },
  {
   "cell_type": "code",
   "execution_count": 13,
   "metadata": {},
   "outputs": [
    {
     "name": "stdout",
     "output_type": "stream",
     "text": [
      "Jadi luas Lingkaran Adalah :  50.24\n"
     ]
    }
   ],
   "source": [
    "# 4. Luas Lingkaran\n",
    "jari = float(input(\"Masukan Jari-Jari : \"))\n",
    "phi = 3.14\n",
    "luasLingkaran = phi * jari * jari\n",
    "print(\"Jadi luas Lingkaran Adalah : \", luasLingkaran)"
   ]
  },
  {
   "cell_type": "code",
   "execution_count": null,
   "metadata": {},
   "outputs": [],
   "source": [
    "# 5. Luas Jajar Genjang\n",
    "alasJG = float(input(\"Masukan Alas Jajar Genjang : \"))\n",
    "tinggiJG = float(input(\"Masukan Alas Tinggi Genjang : \"))\n",
    "luasJG = alasJG * tinggiJG\n",
    "print(\"Jadi luas Jajar Genjang adalah : \", luasJG)"
   ]
  },
  {
   "cell_type": "code",
   "execution_count": null,
   "metadata": {},
   "outputs": [],
   "source": [
    "# 6. Luas Trapesium\n",
    "alasA = float(input(\"Masukan Alas A : \"))\n",
    "alasB = float(input(\"Masukan Alas B :\"))\n",
    "tinggiTR = float(input(\"Masukan Tinggi : \"))\n",
    "luasTR = 0.5 * (alasA + alasB) * tinggiTR\n",
    "print(\"Luas Trapesium adalah : \", luasTR)"
   ]
  },
  {
   "cell_type": "code",
   "execution_count": 44,
   "metadata": {},
   "outputs": [
    {
     "name": "stdout",
     "output_type": "stream",
     "text": [
      "A & B :  0\n",
      "A | B :  13\n",
      "A ~ B :  -10\n",
      "A ^ B :  13\n"
     ]
    }
   ],
   "source": [
    "a, b = 3, 8\n",
    "c = a & b\n",
    "print(\"A & B : \", c)\n",
    "\n",
    "a, b = 12, 9\n",
    "c = a | b\n",
    "print(\"A | B : \", c)\n",
    "\n",
    "a = 9\n",
    "c = ~a\n",
    "print(\"A ~ B : \", c)\n",
    "\n",
    "a, b = 8, 5\n",
    "c = a ^ b\n",
    "print(\"A ^ B : \", c)"
   ]
  }
 ],
 "metadata": {
  "kernelspec": {
   "display_name": "Python 3.8.10 64-bit",
   "language": "python",
   "name": "python3"
  },
  "language_info": {
   "codemirror_mode": {
    "name": "ipython",
    "version": 3
   },
   "file_extension": ".py",
   "mimetype": "text/x-python",
   "name": "python",
   "nbconvert_exporter": "python",
   "pygments_lexer": "ipython3",
   "version": "3.8.10"
  },
  "orig_nbformat": 4,
  "vscode": {
   "interpreter": {
    "hash": "50f92a894483b90d37829e622a33871b27f3b5decbf3450e8a1f9570503ac8b0"
   }
  }
 },
 "nbformat": 4,
 "nbformat_minor": 2
}
