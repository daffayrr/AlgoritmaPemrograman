{
 "cells": [
  {
   "cell_type": "markdown",
   "metadata": {},
   "source": [
    "# Praktikum 1"
   ]
  },
  {
   "cell_type": "markdown",
   "metadata": {},
   "source": [
    "## Membuat String"
   ]
  },
  {
   "cell_type": "code",
   "execution_count": 4,
   "metadata": {},
   "outputs": [
    {
     "name": "stdout",
     "output_type": "stream",
     "text": [
      "Nama : Farras Daffa YassarramadhanNIM : 223200248Angkatan : 2022Jurusan : InformatikaFakultas Ilmu KomputerUniversitas Alma Ata\n"
     ]
    }
   ],
   "source": [
    "print(\"Nama : Farras Daffa Yassarramadhan\"\n",
    "\"NIM : 223200248\"\n",
    "\"Angkatan : 2022\"\n",
    "\"Jurusan : Informatika\"\n",
    "\"Fakultas Ilmu Komputer\"\n",
    "\"Universitas Alma Ata\")"
   ]
  },
  {
   "cell_type": "markdown",
   "metadata": {},
   "source": [
    "## Type Data Python"
   ]
  },
  {
   "cell_type": "code",
   "execution_count": 21,
   "metadata": {},
   "outputs": [
    {
     "name": "stdout",
     "output_type": "stream",
     "text": [
      "Data :  9 <class 'int'>\n",
      "Data :  4.5 <class 'float'>\n",
      "Data :  Daffa <class 'str'>\n",
      "Data :  False <class 'bool'>\n",
      "Data :  5j <class 'complex'>\n",
      "Data :  (1, 2, 3, 4, 5) <class 'tuple'>\n"
     ]
    }
   ],
   "source": [
    "# Tipe data Integer\n",
    "data_int = 9\n",
    "print(\"Data : \", data_int, type(data_int))\n",
    "\n",
    "# Tipe data Float\n",
    "data_float = 4.5\n",
    "print(\"Data : \", data_float, type(data_float))\n",
    "\n",
    "# Tipe data String\n",
    "data_str = \"Daffa\"\n",
    "print(\"Data : \", data_str, type(data_str))\n",
    "\n",
    "# Tipe data Boolean\n",
    "data_boolean = False\n",
    "print(\"Data : \", data_boolean, type(data_boolean))\n",
    "\n",
    "# Tipe data Complex\n",
    "data_complex = 5j\n",
    "print(\"Data : \", data_complex, type(data_complex))\n",
    "\n",
    "# Tipe data Tuple\n",
    "data_tuple = 1, 2, 3, 4, 5\n",
    "print(\"Data : \", data_tuple, type(data_tuple))\n"
   ]
  },
  {
   "cell_type": "code",
   "execution_count": null,
   "metadata": {},
   "outputs": [],
   "source": []
  }
 ],
 "metadata": {
  "kernelspec": {
   "display_name": "Python 3.7.9 64-bit",
   "language": "python",
   "name": "python3"
  },
  "language_info": {
   "codemirror_mode": {
    "name": "ipython",
    "version": 3
   },
   "file_extension": ".py",
   "mimetype": "text/x-python",
   "name": "python",
   "nbconvert_exporter": "python",
   "pygments_lexer": "ipython3",
   "version": "3.7.9"
  },
  "orig_nbformat": 4,
  "vscode": {
   "interpreter": {
    "hash": "340f8785b86713fc3f0ca7b8a71664d96fcb42f448ddb17a4c1424df05047e41"
   }
  }
 },
 "nbformat": 4,
 "nbformat_minor": 2
}
